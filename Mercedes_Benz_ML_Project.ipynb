{
 "cells": [
  {
   "cell_type": "code",
   "execution_count": 1,
   "id": "c972b239",
   "metadata": {},
   "outputs": [],
   "source": [
    "#Importing necessary Libraries\n",
    "\n",
    "import pandas as pd\n",
    "import numpy as np\n",
    "from sklearn.preprocessing import LabelEncoder\n",
    "from sklearn.preprocessing import StandardScaler\n",
    "from sklearn.decomposition import PCA\n",
    "from xgboost import XGBRegressor\n",
    "import matplotlib.pyplot as plt\n",
    "%matplotlib inline"
   ]
  },
  {
   "cell_type": "code",
   "execution_count": 2,
   "id": "6f00f243",
   "metadata": {},
   "outputs": [],
   "source": [
    "#Reading train and test csv files into dataframes\n",
    "\n",
    "train_df = pd.read_csv('C:\\\\Users\\\\subhr\\\\Desktop\\\\ML_Abhilash\\\\Project\\\\train.csv')\n",
    "test_df = pd.read_csv('C:\\\\Users\\\\subhr\\\\Desktop\\\\ML_Abhilash\\\\Project\\\\test.csv')"
   ]
  },
  {
   "cell_type": "code",
   "execution_count": 3,
   "id": "7f9f090e",
   "metadata": {},
   "outputs": [
    {
     "data": {
      "text/plain": [
       "((4209, 378), (4209, 377))"
      ]
     },
     "execution_count": 3,
     "metadata": {},
     "output_type": "execute_result"
    }
   ],
   "source": [
    "#Shape of the train and test dataframe\n",
    "\n",
    "train_df.shape,test_df.shape"
   ]
  },
  {
   "cell_type": "code",
   "execution_count": 4,
   "id": "d5420c53",
   "metadata": {},
   "outputs": [
    {
     "data": {
      "text/html": [
       "<div>\n",
       "<style scoped>\n",
       "    .dataframe tbody tr th:only-of-type {\n",
       "        vertical-align: middle;\n",
       "    }\n",
       "\n",
       "    .dataframe tbody tr th {\n",
       "        vertical-align: top;\n",
       "    }\n",
       "\n",
       "    .dataframe thead th {\n",
       "        text-align: right;\n",
       "    }\n",
       "</style>\n",
       "<table border=\"1\" class=\"dataframe\">\n",
       "  <thead>\n",
       "    <tr style=\"text-align: right;\">\n",
       "      <th></th>\n",
       "      <th>ID</th>\n",
       "      <th>y</th>\n",
       "      <th>X0</th>\n",
       "      <th>X1</th>\n",
       "      <th>X2</th>\n",
       "      <th>X3</th>\n",
       "      <th>X4</th>\n",
       "      <th>X5</th>\n",
       "      <th>X6</th>\n",
       "      <th>X8</th>\n",
       "      <th>...</th>\n",
       "      <th>X375</th>\n",
       "      <th>X376</th>\n",
       "      <th>X377</th>\n",
       "      <th>X378</th>\n",
       "      <th>X379</th>\n",
       "      <th>X380</th>\n",
       "      <th>X382</th>\n",
       "      <th>X383</th>\n",
       "      <th>X384</th>\n",
       "      <th>X385</th>\n",
       "    </tr>\n",
       "  </thead>\n",
       "  <tbody>\n",
       "    <tr>\n",
       "      <th>0</th>\n",
       "      <td>0</td>\n",
       "      <td>130.81</td>\n",
       "      <td>k</td>\n",
       "      <td>v</td>\n",
       "      <td>at</td>\n",
       "      <td>a</td>\n",
       "      <td>d</td>\n",
       "      <td>u</td>\n",
       "      <td>j</td>\n",
       "      <td>o</td>\n",
       "      <td>...</td>\n",
       "      <td>0</td>\n",
       "      <td>0</td>\n",
       "      <td>1</td>\n",
       "      <td>0</td>\n",
       "      <td>0</td>\n",
       "      <td>0</td>\n",
       "      <td>0</td>\n",
       "      <td>0</td>\n",
       "      <td>0</td>\n",
       "      <td>0</td>\n",
       "    </tr>\n",
       "    <tr>\n",
       "      <th>1</th>\n",
       "      <td>6</td>\n",
       "      <td>88.53</td>\n",
       "      <td>k</td>\n",
       "      <td>t</td>\n",
       "      <td>av</td>\n",
       "      <td>e</td>\n",
       "      <td>d</td>\n",
       "      <td>y</td>\n",
       "      <td>l</td>\n",
       "      <td>o</td>\n",
       "      <td>...</td>\n",
       "      <td>1</td>\n",
       "      <td>0</td>\n",
       "      <td>0</td>\n",
       "      <td>0</td>\n",
       "      <td>0</td>\n",
       "      <td>0</td>\n",
       "      <td>0</td>\n",
       "      <td>0</td>\n",
       "      <td>0</td>\n",
       "      <td>0</td>\n",
       "    </tr>\n",
       "    <tr>\n",
       "      <th>2</th>\n",
       "      <td>7</td>\n",
       "      <td>76.26</td>\n",
       "      <td>az</td>\n",
       "      <td>w</td>\n",
       "      <td>n</td>\n",
       "      <td>c</td>\n",
       "      <td>d</td>\n",
       "      <td>x</td>\n",
       "      <td>j</td>\n",
       "      <td>x</td>\n",
       "      <td>...</td>\n",
       "      <td>0</td>\n",
       "      <td>0</td>\n",
       "      <td>0</td>\n",
       "      <td>0</td>\n",
       "      <td>0</td>\n",
       "      <td>0</td>\n",
       "      <td>1</td>\n",
       "      <td>0</td>\n",
       "      <td>0</td>\n",
       "      <td>0</td>\n",
       "    </tr>\n",
       "    <tr>\n",
       "      <th>3</th>\n",
       "      <td>9</td>\n",
       "      <td>80.62</td>\n",
       "      <td>az</td>\n",
       "      <td>t</td>\n",
       "      <td>n</td>\n",
       "      <td>f</td>\n",
       "      <td>d</td>\n",
       "      <td>x</td>\n",
       "      <td>l</td>\n",
       "      <td>e</td>\n",
       "      <td>...</td>\n",
       "      <td>0</td>\n",
       "      <td>0</td>\n",
       "      <td>0</td>\n",
       "      <td>0</td>\n",
       "      <td>0</td>\n",
       "      <td>0</td>\n",
       "      <td>0</td>\n",
       "      <td>0</td>\n",
       "      <td>0</td>\n",
       "      <td>0</td>\n",
       "    </tr>\n",
       "    <tr>\n",
       "      <th>4</th>\n",
       "      <td>13</td>\n",
       "      <td>78.02</td>\n",
       "      <td>az</td>\n",
       "      <td>v</td>\n",
       "      <td>n</td>\n",
       "      <td>f</td>\n",
       "      <td>d</td>\n",
       "      <td>h</td>\n",
       "      <td>d</td>\n",
       "      <td>n</td>\n",
       "      <td>...</td>\n",
       "      <td>0</td>\n",
       "      <td>0</td>\n",
       "      <td>0</td>\n",
       "      <td>0</td>\n",
       "      <td>0</td>\n",
       "      <td>0</td>\n",
       "      <td>0</td>\n",
       "      <td>0</td>\n",
       "      <td>0</td>\n",
       "      <td>0</td>\n",
       "    </tr>\n",
       "  </tbody>\n",
       "</table>\n",
       "<p>5 rows × 378 columns</p>\n",
       "</div>"
      ],
      "text/plain": [
       "   ID       y  X0 X1  X2 X3 X4 X5 X6 X8  ...  X375  X376  X377  X378  X379  \\\n",
       "0   0  130.81   k  v  at  a  d  u  j  o  ...     0     0     1     0     0   \n",
       "1   6   88.53   k  t  av  e  d  y  l  o  ...     1     0     0     0     0   \n",
       "2   7   76.26  az  w   n  c  d  x  j  x  ...     0     0     0     0     0   \n",
       "3   9   80.62  az  t   n  f  d  x  l  e  ...     0     0     0     0     0   \n",
       "4  13   78.02  az  v   n  f  d  h  d  n  ...     0     0     0     0     0   \n",
       "\n",
       "   X380  X382  X383  X384  X385  \n",
       "0     0     0     0     0     0  \n",
       "1     0     0     0     0     0  \n",
       "2     0     1     0     0     0  \n",
       "3     0     0     0     0     0  \n",
       "4     0     0     0     0     0  \n",
       "\n",
       "[5 rows x 378 columns]"
      ]
     },
     "execution_count": 4,
     "metadata": {},
     "output_type": "execute_result"
    }
   ],
   "source": [
    "train_df.head()"
   ]
  },
  {
   "cell_type": "code",
   "execution_count": 5,
   "id": "88596c5c",
   "metadata": {},
   "outputs": [
    {
     "name": "stdout",
     "output_type": "stream",
     "text": [
      "<class 'pandas.core.frame.DataFrame'>\n",
      "RangeIndex: 4209 entries, 0 to 4208\n",
      "Columns: 378 entries, ID to X385\n",
      "dtypes: float64(1), int64(369), object(8)\n",
      "memory usage: 12.1+ MB\n"
     ]
    }
   ],
   "source": [
    "train_df.info()"
   ]
  },
  {
   "cell_type": "code",
   "execution_count": 6,
   "id": "541bb787",
   "metadata": {},
   "outputs": [
    {
     "data": {
      "text/html": [
       "<div>\n",
       "<style scoped>\n",
       "    .dataframe tbody tr th:only-of-type {\n",
       "        vertical-align: middle;\n",
       "    }\n",
       "\n",
       "    .dataframe tbody tr th {\n",
       "        vertical-align: top;\n",
       "    }\n",
       "\n",
       "    .dataframe thead th {\n",
       "        text-align: right;\n",
       "    }\n",
       "</style>\n",
       "<table border=\"1\" class=\"dataframe\">\n",
       "  <thead>\n",
       "    <tr style=\"text-align: right;\">\n",
       "      <th></th>\n",
       "      <th>X0</th>\n",
       "      <th>X1</th>\n",
       "      <th>X2</th>\n",
       "      <th>X3</th>\n",
       "      <th>X4</th>\n",
       "      <th>X5</th>\n",
       "      <th>X6</th>\n",
       "      <th>X8</th>\n",
       "    </tr>\n",
       "  </thead>\n",
       "  <tbody>\n",
       "    <tr>\n",
       "      <th>0</th>\n",
       "      <td>k</td>\n",
       "      <td>v</td>\n",
       "      <td>at</td>\n",
       "      <td>a</td>\n",
       "      <td>d</td>\n",
       "      <td>u</td>\n",
       "      <td>j</td>\n",
       "      <td>o</td>\n",
       "    </tr>\n",
       "    <tr>\n",
       "      <th>1</th>\n",
       "      <td>k</td>\n",
       "      <td>t</td>\n",
       "      <td>av</td>\n",
       "      <td>e</td>\n",
       "      <td>d</td>\n",
       "      <td>y</td>\n",
       "      <td>l</td>\n",
       "      <td>o</td>\n",
       "    </tr>\n",
       "    <tr>\n",
       "      <th>2</th>\n",
       "      <td>az</td>\n",
       "      <td>w</td>\n",
       "      <td>n</td>\n",
       "      <td>c</td>\n",
       "      <td>d</td>\n",
       "      <td>x</td>\n",
       "      <td>j</td>\n",
       "      <td>x</td>\n",
       "    </tr>\n",
       "    <tr>\n",
       "      <th>3</th>\n",
       "      <td>az</td>\n",
       "      <td>t</td>\n",
       "      <td>n</td>\n",
       "      <td>f</td>\n",
       "      <td>d</td>\n",
       "      <td>x</td>\n",
       "      <td>l</td>\n",
       "      <td>e</td>\n",
       "    </tr>\n",
       "    <tr>\n",
       "      <th>4</th>\n",
       "      <td>az</td>\n",
       "      <td>v</td>\n",
       "      <td>n</td>\n",
       "      <td>f</td>\n",
       "      <td>d</td>\n",
       "      <td>h</td>\n",
       "      <td>d</td>\n",
       "      <td>n</td>\n",
       "    </tr>\n",
       "    <tr>\n",
       "      <th>...</th>\n",
       "      <td>...</td>\n",
       "      <td>...</td>\n",
       "      <td>...</td>\n",
       "      <td>...</td>\n",
       "      <td>...</td>\n",
       "      <td>...</td>\n",
       "      <td>...</td>\n",
       "      <td>...</td>\n",
       "    </tr>\n",
       "    <tr>\n",
       "      <th>4204</th>\n",
       "      <td>ak</td>\n",
       "      <td>s</td>\n",
       "      <td>as</td>\n",
       "      <td>c</td>\n",
       "      <td>d</td>\n",
       "      <td>aa</td>\n",
       "      <td>d</td>\n",
       "      <td>q</td>\n",
       "    </tr>\n",
       "    <tr>\n",
       "      <th>4205</th>\n",
       "      <td>j</td>\n",
       "      <td>o</td>\n",
       "      <td>t</td>\n",
       "      <td>d</td>\n",
       "      <td>d</td>\n",
       "      <td>aa</td>\n",
       "      <td>h</td>\n",
       "      <td>h</td>\n",
       "    </tr>\n",
       "    <tr>\n",
       "      <th>4206</th>\n",
       "      <td>ak</td>\n",
       "      <td>v</td>\n",
       "      <td>r</td>\n",
       "      <td>a</td>\n",
       "      <td>d</td>\n",
       "      <td>aa</td>\n",
       "      <td>g</td>\n",
       "      <td>e</td>\n",
       "    </tr>\n",
       "    <tr>\n",
       "      <th>4207</th>\n",
       "      <td>al</td>\n",
       "      <td>r</td>\n",
       "      <td>e</td>\n",
       "      <td>f</td>\n",
       "      <td>d</td>\n",
       "      <td>aa</td>\n",
       "      <td>l</td>\n",
       "      <td>u</td>\n",
       "    </tr>\n",
       "    <tr>\n",
       "      <th>4208</th>\n",
       "      <td>z</td>\n",
       "      <td>r</td>\n",
       "      <td>ae</td>\n",
       "      <td>c</td>\n",
       "      <td>d</td>\n",
       "      <td>aa</td>\n",
       "      <td>g</td>\n",
       "      <td>w</td>\n",
       "    </tr>\n",
       "  </tbody>\n",
       "</table>\n",
       "<p>4209 rows × 8 columns</p>\n",
       "</div>"
      ],
      "text/plain": [
       "      X0 X1  X2 X3 X4  X5 X6 X8\n",
       "0      k  v  at  a  d   u  j  o\n",
       "1      k  t  av  e  d   y  l  o\n",
       "2     az  w   n  c  d   x  j  x\n",
       "3     az  t   n  f  d   x  l  e\n",
       "4     az  v   n  f  d   h  d  n\n",
       "...   .. ..  .. .. ..  .. .. ..\n",
       "4204  ak  s  as  c  d  aa  d  q\n",
       "4205   j  o   t  d  d  aa  h  h\n",
       "4206  ak  v   r  a  d  aa  g  e\n",
       "4207  al  r   e  f  d  aa  l  u\n",
       "4208   z  r  ae  c  d  aa  g  w\n",
       "\n",
       "[4209 rows x 8 columns]"
      ]
     },
     "execution_count": 6,
     "metadata": {},
     "output_type": "execute_result"
    }
   ],
   "source": [
    "#Viewing object datatype features in the train dataframe\n",
    "\n",
    "train_df.select_dtypes(object)"
   ]
  },
  {
   "cell_type": "code",
   "execution_count": 7,
   "id": "c1c734f6",
   "metadata": {},
   "outputs": [],
   "source": [
    "#Creating new dataframe by dropping the object features\n",
    "\n",
    "train_new_df = train_df.drop(train_df.select_dtypes(object),axis =1)"
   ]
  },
  {
   "cell_type": "code",
   "execution_count": 8,
   "id": "f5c3dd86",
   "metadata": {},
   "outputs": [
    {
     "data": {
      "text/plain": [
       "(4209, 370)"
      ]
     },
     "execution_count": 8,
     "metadata": {},
     "output_type": "execute_result"
    }
   ],
   "source": [
    "train_new_df.shape"
   ]
  },
  {
   "cell_type": "code",
   "execution_count": 9,
   "id": "659aa4dc",
   "metadata": {},
   "outputs": [],
   "source": [
    "#Checking for features with zero variance and subsequently dropping them\n",
    "\n",
    "cols =list()\n",
    "for i in range(len(train_new_df.columns)):\n",
    "    if train_new_df[train_new_df.columns[i]].var()==0:\n",
    "        cols.append(train_new_df.columns[i])\n",
    "    else:\n",
    "        continue\n",
    "train_filt_df = train_new_df.drop(cols,axis=1)"
   ]
  },
  {
   "cell_type": "code",
   "execution_count": 10,
   "id": "5fefef0a",
   "metadata": {},
   "outputs": [
    {
     "name": "stdout",
     "output_type": "stream",
     "text": [
      "['X11', 'X93', 'X107', 'X233', 'X235', 'X268', 'X289', 'X290', 'X293', 'X297', 'X330', 'X347']\n"
     ]
    }
   ],
   "source": [
    "#features with zero variance\n",
    "\n",
    "print(cols)"
   ]
  },
  {
   "cell_type": "code",
   "execution_count": 11,
   "id": "ec96db71",
   "metadata": {},
   "outputs": [
    {
     "data": {
      "text/plain": [
       "(4209, 358)"
      ]
     },
     "execution_count": 11,
     "metadata": {},
     "output_type": "execute_result"
    }
   ],
   "source": [
    "train_filt_df.shape"
   ]
  },
  {
   "cell_type": "code",
   "execution_count": 12,
   "id": "258d6cc5",
   "metadata": {},
   "outputs": [],
   "source": [
    "#checking for null values in the integer type features\n",
    "\n",
    "for i,count in enumerate(range(train_filt_df.shape[1])):\n",
    "    if train_filt_df.isnull().sum()[i]!=0:\n",
    "        print(train_filt_df.isnull().sum().index[i])\n",
    "    else:\n",
    "        continue "
   ]
  },
  {
   "cell_type": "code",
   "execution_count": 13,
   "id": "a230e106",
   "metadata": {},
   "outputs": [],
   "source": [
    "#Creating new dataframe with object features\n",
    "\n",
    "train_cat_df = train_df[['X0','X1','X2','X3','X4','X5','X6','X8']]"
   ]
  },
  {
   "cell_type": "code",
   "execution_count": 14,
   "id": "f5e08db4",
   "metadata": {},
   "outputs": [
    {
     "name": "stdout",
     "output_type": "stream",
     "text": [
      "<class 'pandas.core.frame.DataFrame'>\n",
      "RangeIndex: 4209 entries, 0 to 4208\n",
      "Data columns (total 8 columns):\n",
      " #   Column  Non-Null Count  Dtype \n",
      "---  ------  --------------  ----- \n",
      " 0   X0      4209 non-null   object\n",
      " 1   X1      4209 non-null   object\n",
      " 2   X2      4209 non-null   object\n",
      " 3   X3      4209 non-null   object\n",
      " 4   X4      4209 non-null   object\n",
      " 5   X5      4209 non-null   object\n",
      " 6   X6      4209 non-null   object\n",
      " 7   X8      4209 non-null   object\n",
      "dtypes: object(8)\n",
      "memory usage: 263.2+ KB\n"
     ]
    }
   ],
   "source": [
    "#Checking for null values in the features\n",
    "\n",
    "train_cat_df.info()"
   ]
  },
  {
   "cell_type": "code",
   "execution_count": 15,
   "id": "47c0538b",
   "metadata": {},
   "outputs": [],
   "source": [
    "#Initialising label encoder for the purpose of integer encoding categorical values\n",
    "\n",
    "le = LabelEncoder()"
   ]
  },
  {
   "cell_type": "code",
   "execution_count": 16,
   "id": "24dd43e6",
   "metadata": {},
   "outputs": [
    {
     "name": "stderr",
     "output_type": "stream",
     "text": [
      "<ipython-input-16-37d2c12523dc>:4: SettingWithCopyWarning: \n",
      "A value is trying to be set on a copy of a slice from a DataFrame.\n",
      "Try using .loc[row_indexer,col_indexer] = value instead\n",
      "\n",
      "See the caveats in the documentation: https://pandas.pydata.org/pandas-docs/stable/user_guide/indexing.html#returning-a-view-versus-a-copy\n",
      "  train_cat_df[cols]=le.fit_transform(train_cat_df[cols])\n"
     ]
    }
   ],
   "source": [
    "#Integer encoding the categorical features\n",
    "\n",
    "for cols in list(train_cat_df.columns):\n",
    "    train_cat_df[cols]=le.fit_transform(train_cat_df[cols])"
   ]
  },
  {
   "cell_type": "code",
   "execution_count": 17,
   "id": "00411512",
   "metadata": {},
   "outputs": [
    {
     "data": {
      "text/html": [
       "<div>\n",
       "<style scoped>\n",
       "    .dataframe tbody tr th:only-of-type {\n",
       "        vertical-align: middle;\n",
       "    }\n",
       "\n",
       "    .dataframe tbody tr th {\n",
       "        vertical-align: top;\n",
       "    }\n",
       "\n",
       "    .dataframe thead th {\n",
       "        text-align: right;\n",
       "    }\n",
       "</style>\n",
       "<table border=\"1\" class=\"dataframe\">\n",
       "  <thead>\n",
       "    <tr style=\"text-align: right;\">\n",
       "      <th></th>\n",
       "      <th>X0</th>\n",
       "      <th>X1</th>\n",
       "      <th>X2</th>\n",
       "      <th>X3</th>\n",
       "      <th>X4</th>\n",
       "      <th>X5</th>\n",
       "      <th>X6</th>\n",
       "      <th>X8</th>\n",
       "    </tr>\n",
       "  </thead>\n",
       "  <tbody>\n",
       "    <tr>\n",
       "      <th>0</th>\n",
       "      <td>32</td>\n",
       "      <td>23</td>\n",
       "      <td>17</td>\n",
       "      <td>0</td>\n",
       "      <td>3</td>\n",
       "      <td>24</td>\n",
       "      <td>9</td>\n",
       "      <td>14</td>\n",
       "    </tr>\n",
       "    <tr>\n",
       "      <th>1</th>\n",
       "      <td>32</td>\n",
       "      <td>21</td>\n",
       "      <td>19</td>\n",
       "      <td>4</td>\n",
       "      <td>3</td>\n",
       "      <td>28</td>\n",
       "      <td>11</td>\n",
       "      <td>14</td>\n",
       "    </tr>\n",
       "    <tr>\n",
       "      <th>2</th>\n",
       "      <td>20</td>\n",
       "      <td>24</td>\n",
       "      <td>34</td>\n",
       "      <td>2</td>\n",
       "      <td>3</td>\n",
       "      <td>27</td>\n",
       "      <td>9</td>\n",
       "      <td>23</td>\n",
       "    </tr>\n",
       "    <tr>\n",
       "      <th>3</th>\n",
       "      <td>20</td>\n",
       "      <td>21</td>\n",
       "      <td>34</td>\n",
       "      <td>5</td>\n",
       "      <td>3</td>\n",
       "      <td>27</td>\n",
       "      <td>11</td>\n",
       "      <td>4</td>\n",
       "    </tr>\n",
       "    <tr>\n",
       "      <th>4</th>\n",
       "      <td>20</td>\n",
       "      <td>23</td>\n",
       "      <td>34</td>\n",
       "      <td>5</td>\n",
       "      <td>3</td>\n",
       "      <td>12</td>\n",
       "      <td>3</td>\n",
       "      <td>13</td>\n",
       "    </tr>\n",
       "    <tr>\n",
       "      <th>...</th>\n",
       "      <td>...</td>\n",
       "      <td>...</td>\n",
       "      <td>...</td>\n",
       "      <td>...</td>\n",
       "      <td>...</td>\n",
       "      <td>...</td>\n",
       "      <td>...</td>\n",
       "      <td>...</td>\n",
       "    </tr>\n",
       "    <tr>\n",
       "      <th>4204</th>\n",
       "      <td>8</td>\n",
       "      <td>20</td>\n",
       "      <td>16</td>\n",
       "      <td>2</td>\n",
       "      <td>3</td>\n",
       "      <td>0</td>\n",
       "      <td>3</td>\n",
       "      <td>16</td>\n",
       "    </tr>\n",
       "    <tr>\n",
       "      <th>4205</th>\n",
       "      <td>31</td>\n",
       "      <td>16</td>\n",
       "      <td>40</td>\n",
       "      <td>3</td>\n",
       "      <td>3</td>\n",
       "      <td>0</td>\n",
       "      <td>7</td>\n",
       "      <td>7</td>\n",
       "    </tr>\n",
       "    <tr>\n",
       "      <th>4206</th>\n",
       "      <td>8</td>\n",
       "      <td>23</td>\n",
       "      <td>38</td>\n",
       "      <td>0</td>\n",
       "      <td>3</td>\n",
       "      <td>0</td>\n",
       "      <td>6</td>\n",
       "      <td>4</td>\n",
       "    </tr>\n",
       "    <tr>\n",
       "      <th>4207</th>\n",
       "      <td>9</td>\n",
       "      <td>19</td>\n",
       "      <td>25</td>\n",
       "      <td>5</td>\n",
       "      <td>3</td>\n",
       "      <td>0</td>\n",
       "      <td>11</td>\n",
       "      <td>20</td>\n",
       "    </tr>\n",
       "    <tr>\n",
       "      <th>4208</th>\n",
       "      <td>46</td>\n",
       "      <td>19</td>\n",
       "      <td>3</td>\n",
       "      <td>2</td>\n",
       "      <td>3</td>\n",
       "      <td>0</td>\n",
       "      <td>6</td>\n",
       "      <td>22</td>\n",
       "    </tr>\n",
       "  </tbody>\n",
       "</table>\n",
       "<p>4209 rows × 8 columns</p>\n",
       "</div>"
      ],
      "text/plain": [
       "      X0  X1  X2  X3  X4  X5  X6  X8\n",
       "0     32  23  17   0   3  24   9  14\n",
       "1     32  21  19   4   3  28  11  14\n",
       "2     20  24  34   2   3  27   9  23\n",
       "3     20  21  34   5   3  27  11   4\n",
       "4     20  23  34   5   3  12   3  13\n",
       "...   ..  ..  ..  ..  ..  ..  ..  ..\n",
       "4204   8  20  16   2   3   0   3  16\n",
       "4205  31  16  40   3   3   0   7   7\n",
       "4206   8  23  38   0   3   0   6   4\n",
       "4207   9  19  25   5   3   0  11  20\n",
       "4208  46  19   3   2   3   0   6  22\n",
       "\n",
       "[4209 rows x 8 columns]"
      ]
     },
     "execution_count": 17,
     "metadata": {},
     "output_type": "execute_result"
    }
   ],
   "source": [
    "#Integer encoded dataframe\n",
    "\n",
    "train_cat_df"
   ]
  },
  {
   "cell_type": "code",
   "execution_count": 18,
   "id": "7b4af8c0",
   "metadata": {},
   "outputs": [],
   "source": [
    "#Concatenating two dataframes to create the final train dataframe\n",
    "\n",
    "train_final_df = pd.concat([train_cat_df,train_filt_df],axis=1)"
   ]
  },
  {
   "cell_type": "code",
   "execution_count": 19,
   "id": "36d26ea4",
   "metadata": {},
   "outputs": [
    {
     "data": {
      "text/html": [
       "<div>\n",
       "<style scoped>\n",
       "    .dataframe tbody tr th:only-of-type {\n",
       "        vertical-align: middle;\n",
       "    }\n",
       "\n",
       "    .dataframe tbody tr th {\n",
       "        vertical-align: top;\n",
       "    }\n",
       "\n",
       "    .dataframe thead th {\n",
       "        text-align: right;\n",
       "    }\n",
       "</style>\n",
       "<table border=\"1\" class=\"dataframe\">\n",
       "  <thead>\n",
       "    <tr style=\"text-align: right;\">\n",
       "      <th></th>\n",
       "      <th>X0</th>\n",
       "      <th>X1</th>\n",
       "      <th>X2</th>\n",
       "      <th>X3</th>\n",
       "      <th>X4</th>\n",
       "      <th>X5</th>\n",
       "      <th>X6</th>\n",
       "      <th>X8</th>\n",
       "      <th>ID</th>\n",
       "      <th>y</th>\n",
       "      <th>...</th>\n",
       "      <th>X375</th>\n",
       "      <th>X376</th>\n",
       "      <th>X377</th>\n",
       "      <th>X378</th>\n",
       "      <th>X379</th>\n",
       "      <th>X380</th>\n",
       "      <th>X382</th>\n",
       "      <th>X383</th>\n",
       "      <th>X384</th>\n",
       "      <th>X385</th>\n",
       "    </tr>\n",
       "  </thead>\n",
       "  <tbody>\n",
       "    <tr>\n",
       "      <th>0</th>\n",
       "      <td>32</td>\n",
       "      <td>23</td>\n",
       "      <td>17</td>\n",
       "      <td>0</td>\n",
       "      <td>3</td>\n",
       "      <td>24</td>\n",
       "      <td>9</td>\n",
       "      <td>14</td>\n",
       "      <td>0</td>\n",
       "      <td>130.81</td>\n",
       "      <td>...</td>\n",
       "      <td>0</td>\n",
       "      <td>0</td>\n",
       "      <td>1</td>\n",
       "      <td>0</td>\n",
       "      <td>0</td>\n",
       "      <td>0</td>\n",
       "      <td>0</td>\n",
       "      <td>0</td>\n",
       "      <td>0</td>\n",
       "      <td>0</td>\n",
       "    </tr>\n",
       "    <tr>\n",
       "      <th>1</th>\n",
       "      <td>32</td>\n",
       "      <td>21</td>\n",
       "      <td>19</td>\n",
       "      <td>4</td>\n",
       "      <td>3</td>\n",
       "      <td>28</td>\n",
       "      <td>11</td>\n",
       "      <td>14</td>\n",
       "      <td>6</td>\n",
       "      <td>88.53</td>\n",
       "      <td>...</td>\n",
       "      <td>1</td>\n",
       "      <td>0</td>\n",
       "      <td>0</td>\n",
       "      <td>0</td>\n",
       "      <td>0</td>\n",
       "      <td>0</td>\n",
       "      <td>0</td>\n",
       "      <td>0</td>\n",
       "      <td>0</td>\n",
       "      <td>0</td>\n",
       "    </tr>\n",
       "    <tr>\n",
       "      <th>2</th>\n",
       "      <td>20</td>\n",
       "      <td>24</td>\n",
       "      <td>34</td>\n",
       "      <td>2</td>\n",
       "      <td>3</td>\n",
       "      <td>27</td>\n",
       "      <td>9</td>\n",
       "      <td>23</td>\n",
       "      <td>7</td>\n",
       "      <td>76.26</td>\n",
       "      <td>...</td>\n",
       "      <td>0</td>\n",
       "      <td>0</td>\n",
       "      <td>0</td>\n",
       "      <td>0</td>\n",
       "      <td>0</td>\n",
       "      <td>0</td>\n",
       "      <td>1</td>\n",
       "      <td>0</td>\n",
       "      <td>0</td>\n",
       "      <td>0</td>\n",
       "    </tr>\n",
       "    <tr>\n",
       "      <th>3</th>\n",
       "      <td>20</td>\n",
       "      <td>21</td>\n",
       "      <td>34</td>\n",
       "      <td>5</td>\n",
       "      <td>3</td>\n",
       "      <td>27</td>\n",
       "      <td>11</td>\n",
       "      <td>4</td>\n",
       "      <td>9</td>\n",
       "      <td>80.62</td>\n",
       "      <td>...</td>\n",
       "      <td>0</td>\n",
       "      <td>0</td>\n",
       "      <td>0</td>\n",
       "      <td>0</td>\n",
       "      <td>0</td>\n",
       "      <td>0</td>\n",
       "      <td>0</td>\n",
       "      <td>0</td>\n",
       "      <td>0</td>\n",
       "      <td>0</td>\n",
       "    </tr>\n",
       "    <tr>\n",
       "      <th>4</th>\n",
       "      <td>20</td>\n",
       "      <td>23</td>\n",
       "      <td>34</td>\n",
       "      <td>5</td>\n",
       "      <td>3</td>\n",
       "      <td>12</td>\n",
       "      <td>3</td>\n",
       "      <td>13</td>\n",
       "      <td>13</td>\n",
       "      <td>78.02</td>\n",
       "      <td>...</td>\n",
       "      <td>0</td>\n",
       "      <td>0</td>\n",
       "      <td>0</td>\n",
       "      <td>0</td>\n",
       "      <td>0</td>\n",
       "      <td>0</td>\n",
       "      <td>0</td>\n",
       "      <td>0</td>\n",
       "      <td>0</td>\n",
       "      <td>0</td>\n",
       "    </tr>\n",
       "  </tbody>\n",
       "</table>\n",
       "<p>5 rows × 366 columns</p>\n",
       "</div>"
      ],
      "text/plain": [
       "   X0  X1  X2  X3  X4  X5  X6  X8  ID       y  ...  X375  X376  X377  X378  \\\n",
       "0  32  23  17   0   3  24   9  14   0  130.81  ...     0     0     1     0   \n",
       "1  32  21  19   4   3  28  11  14   6   88.53  ...     1     0     0     0   \n",
       "2  20  24  34   2   3  27   9  23   7   76.26  ...     0     0     0     0   \n",
       "3  20  21  34   5   3  27  11   4   9   80.62  ...     0     0     0     0   \n",
       "4  20  23  34   5   3  12   3  13  13   78.02  ...     0     0     0     0   \n",
       "\n",
       "   X379  X380  X382  X383  X384  X385  \n",
       "0     0     0     0     0     0     0  \n",
       "1     0     0     0     0     0     0  \n",
       "2     0     0     1     0     0     0  \n",
       "3     0     0     0     0     0     0  \n",
       "4     0     0     0     0     0     0  \n",
       "\n",
       "[5 rows x 366 columns]"
      ]
     },
     "execution_count": 19,
     "metadata": {},
     "output_type": "execute_result"
    }
   ],
   "source": [
    "train_final_df.head()"
   ]
  },
  {
   "cell_type": "code",
   "execution_count": 20,
   "id": "6b120598",
   "metadata": {},
   "outputs": [],
   "source": [
    "#Creating Independent and Dependent variables for the purpose of machine learning\n",
    "\n",
    "X_train = train_final_df.drop(['ID','y'],axis=1)\n",
    "Y_train = train_final_df['y']"
   ]
  },
  {
   "cell_type": "code",
   "execution_count": 21,
   "id": "6f923608",
   "metadata": {},
   "outputs": [],
   "source": [
    "# Initialising standardscaler and subsequently standardizing the Independent variable\n",
    "\n",
    "ss = StandardScaler()\n",
    "X_train = ss.fit_transform(X_train)"
   ]
  },
  {
   "cell_type": "code",
   "execution_count": 22,
   "id": "1e398369",
   "metadata": {},
   "outputs": [
    {
     "data": {
      "text/plain": [
       "array([[ 0.16301209,  1.39348787, -0.02812155, ..., -0.04081511,\n",
       "        -0.02180363, -0.03778296],\n",
       "       [ 0.16301209,  1.15902093,  0.15538793, ..., -0.04081511,\n",
       "        -0.02180363, -0.03778296],\n",
       "       [-0.71055977,  1.51072134,  1.53170902, ..., -0.04081511,\n",
       "        -0.02180363, -0.03778296],\n",
       "       ...,\n",
       "       [-1.58413164,  1.39348787,  1.89872798, ..., -0.04081511,\n",
       "        -0.02180363, -0.03778296],\n",
       "       [-1.51133398,  0.924554  ,  0.70591637, ..., -0.04081511,\n",
       "        -0.02180363, -0.03778296],\n",
       "       [ 1.18217927,  0.924554  , -1.31268791, ..., -0.04081511,\n",
       "        -0.02180363, -0.03778296]])"
      ]
     },
     "execution_count": 22,
     "metadata": {},
     "output_type": "execute_result"
    }
   ],
   "source": [
    "#Standardized variable\n",
    "\n",
    "X_train"
   ]
  },
  {
   "cell_type": "code",
   "execution_count": 23,
   "id": "6d8d6967",
   "metadata": {},
   "outputs": [],
   "source": [
    "#Initializing PCA for dimensionality reduction\n",
    "\n",
    "pca = PCA()"
   ]
  },
  {
   "cell_type": "code",
   "execution_count": 24,
   "id": "7f6ebc39",
   "metadata": {},
   "outputs": [
    {
     "data": {
      "text/plain": [
       "PCA()"
      ]
     },
     "execution_count": 24,
     "metadata": {},
     "output_type": "execute_result"
    }
   ],
   "source": [
    "#fitting the independent variables\n",
    "\n",
    "pca.fit(X_train)"
   ]
  },
  {
   "cell_type": "code",
   "execution_count": 25,
   "id": "b3b112b7",
   "metadata": {},
   "outputs": [
    {
     "data": {
      "text/plain": [
       "array([6.89266892e-02, 5.68841213e-02, 4.53745695e-02, 3.42677135e-02,\n",
       "       3.26430877e-02, 3.16266067e-02, 2.86252442e-02, 2.12375123e-02,\n",
       "       1.97041337e-02, 1.78319550e-02, 1.64006646e-02, 1.56428622e-02,\n",
       "       1.46274226e-02, 1.44833491e-02, 1.34828580e-02, 1.29516175e-02,\n",
       "       1.24383219e-02, 1.17310333e-02, 1.12105051e-02, 1.07727793e-02,\n",
       "       9.92512898e-03, 9.69449157e-03, 9.42523076e-03, 9.09867975e-03,\n",
       "       8.74223908e-03, 8.43069482e-03, 7.90204943e-03, 7.63217614e-03,\n",
       "       7.33541876e-03, 7.14905572e-03, 6.92957269e-03, 6.76677298e-03,\n",
       "       6.52534438e-03, 6.41494089e-03, 6.22692040e-03, 5.99196153e-03,\n",
       "       5.88086185e-03, 5.74693562e-03, 5.63702738e-03, 5.53409616e-03,\n",
       "       5.50641149e-03, 5.40082599e-03, 5.33910600e-03, 5.24611598e-03,\n",
       "       5.10194247e-03, 5.03232420e-03, 4.95885463e-03, 4.72691565e-03,\n",
       "       4.64475228e-03, 4.56521484e-03, 4.39624472e-03, 4.32947533e-03,\n",
       "       4.30322432e-03, 4.23762131e-03, 4.20211958e-03, 4.15473420e-03,\n",
       "       4.06699537e-03, 4.03462750e-03, 3.91873995e-03, 3.88747084e-03,\n",
       "       3.81759321e-03, 3.75560105e-03, 3.72440051e-03, 3.65910562e-03,\n",
       "       3.59566547e-03, 3.55229656e-03, 3.49700953e-03, 3.46182278e-03,\n",
       "       3.40471717e-03, 3.34157815e-03, 3.30984908e-03, 3.25521932e-03,\n",
       "       3.24084510e-03, 3.21045090e-03, 3.16671200e-03, 3.16169105e-03,\n",
       "       3.09963730e-03, 3.07579140e-03, 3.05317642e-03, 3.03955238e-03,\n",
       "       3.00255847e-03, 2.98903148e-03, 2.95834824e-03, 2.92906873e-03,\n",
       "       2.90789282e-03, 2.89246840e-03, 2.87088871e-03, 2.84861071e-03,\n",
       "       2.82893540e-03, 2.80661865e-03, 2.79489424e-03, 2.76964748e-03,\n",
       "       2.74977677e-03, 2.72538185e-03, 2.72396743e-03, 2.66915947e-03,\n",
       "       2.64849773e-03, 2.63035478e-03, 2.60995440e-03, 2.60665425e-03,\n",
       "       2.57383600e-03, 2.54968974e-03, 2.53621249e-03, 2.51953928e-03,\n",
       "       2.50398175e-03, 2.48457976e-03, 2.44053200e-03, 2.42183601e-03,\n",
       "       2.40353580e-03, 2.38432335e-03, 2.34517965e-03, 2.31166118e-03,\n",
       "       2.30049772e-03, 2.27223313e-03, 2.25613123e-03, 2.23532575e-03,\n",
       "       2.21465563e-03, 2.20028258e-03, 2.15055308e-03, 2.13667795e-03,\n",
       "       2.10335610e-03, 2.09410362e-03, 2.05842058e-03, 2.04122098e-03,\n",
       "       2.02468809e-03, 1.98912003e-03, 1.93876262e-03, 1.91967571e-03,\n",
       "       1.91801301e-03, 1.87935329e-03, 1.85171337e-03, 1.81419321e-03,\n",
       "       1.79357485e-03, 1.78621289e-03, 1.75392321e-03, 1.71752943e-03,\n",
       "       1.70719881e-03, 1.67983148e-03, 1.65808186e-03, 1.61860975e-03,\n",
       "       1.61139410e-03, 1.57706719e-03, 1.54261681e-03, 1.53538284e-03,\n",
       "       1.49678823e-03, 1.49384890e-03, 1.47852266e-03, 1.42828100e-03,\n",
       "       1.41108081e-03, 1.37376476e-03, 1.33814992e-03, 1.28803283e-03,\n",
       "       1.26972355e-03, 1.26213163e-03, 1.20721187e-03, 1.16191771e-03,\n",
       "       1.14336841e-03, 1.12752230e-03, 1.09498612e-03, 1.05869705e-03,\n",
       "       9.99910624e-04, 9.89110199e-04, 9.86361463e-04, 9.54546927e-04,\n",
       "       9.45056062e-04, 9.11514885e-04, 8.99355342e-04, 8.80886749e-04,\n",
       "       8.63653466e-04, 8.59439761e-04, 8.29410991e-04, 8.24059997e-04,\n",
       "       7.98201807e-04, 7.91126650e-04, 7.78713087e-04, 7.44845247e-04,\n",
       "       7.24330743e-04, 7.08041140e-04, 6.85829934e-04, 6.72145117e-04,\n",
       "       6.55718352e-04, 6.40733883e-04, 6.12000447e-04, 5.86075445e-04,\n",
       "       5.58289468e-04, 5.45679895e-04, 5.41944228e-04, 5.30507026e-04,\n",
       "       5.23125193e-04, 5.09290043e-04, 4.93967305e-04, 4.75601629e-04,\n",
       "       4.59394696e-04, 4.52812516e-04, 4.39558529e-04, 4.26949429e-04,\n",
       "       4.14907621e-04, 4.07139378e-04, 3.99902280e-04, 3.96288548e-04,\n",
       "       3.86933450e-04, 3.72623799e-04, 3.62443593e-04, 3.54579912e-04,\n",
       "       3.38415435e-04, 3.29616574e-04, 3.16880863e-04, 3.07011359e-04,\n",
       "       2.91609975e-04, 2.84735221e-04, 2.74172380e-04, 2.65105542e-04,\n",
       "       2.57082857e-04, 2.44896369e-04, 2.37787938e-04, 2.29725881e-04,\n",
       "       2.28237225e-04, 2.26852369e-04, 2.18016571e-04, 2.09597981e-04,\n",
       "       1.98544338e-04, 1.74896477e-04, 1.63275485e-04, 1.56435191e-04,\n",
       "       1.48275745e-04, 1.45817565e-04, 1.39375105e-04, 1.25010833e-04,\n",
       "       1.16516633e-04, 1.08763512e-04, 1.00668042e-04, 9.32800134e-05,\n",
       "       8.37733596e-05, 7.81804284e-05, 6.89060898e-05, 6.38124700e-05,\n",
       "       6.20529750e-05, 5.69132679e-05, 4.99048590e-05, 4.85560153e-05,\n",
       "       4.49553468e-05, 4.31149301e-05, 4.23039470e-05, 3.76702109e-05,\n",
       "       3.67759864e-05, 3.16512054e-05, 3.01120917e-05, 2.60667672e-05,\n",
       "       2.04349916e-05, 1.43314337e-05, 1.24786542e-05, 1.17912074e-05,\n",
       "       8.13427984e-06, 7.14835152e-06, 4.73619419e-06, 4.54880789e-06,\n",
       "       3.00516288e-06, 2.48700880e-06, 1.42103632e-06, 1.35933926e-32,\n",
       "       2.03775596e-33, 2.02531407e-33, 1.60817378e-33, 1.41392516e-33,\n",
       "       1.33726553e-33, 1.22379355e-33, 1.15927483e-33, 1.02240091e-33,\n",
       "       8.55156440e-34, 7.95844170e-34, 7.22863434e-34, 5.69909583e-34,\n",
       "       4.18902155e-34, 3.55687842e-34, 3.16603046e-34, 3.14824492e-34,\n",
       "       3.12692316e-34, 3.12692316e-34, 3.12692316e-34, 3.12692316e-34,\n",
       "       3.12692316e-34, 3.12692316e-34, 3.12692316e-34, 3.12692316e-34,\n",
       "       3.12692316e-34, 3.12692316e-34, 3.12692316e-34, 3.12692316e-34,\n",
       "       3.12692316e-34, 3.12692316e-34, 3.12692316e-34, 3.12692316e-34,\n",
       "       3.12692316e-34, 3.12692316e-34, 3.12692316e-34, 3.12692316e-34,\n",
       "       3.12692316e-34, 3.12692316e-34, 3.12692316e-34, 3.12692316e-34,\n",
       "       3.12692316e-34, 3.12692316e-34, 3.12692316e-34, 3.12692316e-34,\n",
       "       3.12692316e-34, 3.12692316e-34, 3.12692316e-34, 3.12692316e-34,\n",
       "       3.12692316e-34, 3.12692316e-34, 3.12692316e-34, 3.12692316e-34,\n",
       "       3.12692316e-34, 3.12692316e-34, 3.12692316e-34, 3.12692316e-34,\n",
       "       3.12692316e-34, 3.12692316e-34, 3.12692316e-34, 3.12692316e-34,\n",
       "       3.12692316e-34, 3.12692316e-34, 3.12692316e-34, 3.12692316e-34,\n",
       "       3.12692316e-34, 3.12692316e-34, 3.12692316e-34, 3.12692316e-34,\n",
       "       3.12692316e-34, 3.12692316e-34, 3.12692316e-34, 3.12692316e-34,\n",
       "       3.12692316e-34, 3.12692316e-34, 3.12692316e-34, 3.12692316e-34,\n",
       "       3.12692316e-34, 3.12692316e-34, 3.12692316e-34, 3.12692316e-34,\n",
       "       3.12692316e-34, 3.12692316e-34, 3.12692316e-34, 3.12692316e-34,\n",
       "       3.12692316e-34, 3.12692316e-34, 3.12692316e-34, 3.12692316e-34,\n",
       "       3.12692316e-34, 3.12692316e-34, 3.12692316e-34, 3.12692316e-34,\n",
       "       3.12692316e-34, 3.12692316e-34, 3.12692316e-34, 3.12692316e-34,\n",
       "       3.12692316e-34, 3.12692316e-34, 2.81099293e-34, 1.85208053e-34,\n",
       "       1.67229422e-34, 8.96352520e-35, 2.99729856e-35, 3.46465135e-36])"
      ]
     },
     "execution_count": 25,
     "metadata": {},
     "output_type": "execute_result"
    }
   ],
   "source": [
    "#Displaying the percentage of variation each features have in dependent variable\n",
    "\n",
    "pca.explained_variance_ratio_"
   ]
  },
  {
   "cell_type": "code",
   "execution_count": 26,
   "id": "a9d424ca",
   "metadata": {},
   "outputs": [
    {
     "data": {
      "text/plain": [
       "<BarContainer object of 364 artists>"
      ]
     },
     "execution_count": 26,
     "metadata": {},
     "output_type": "execute_result"
    },
    {
     "data": {
      "image/png": "[encoded data removed]",
      "text/plain": [
       "<Figure size 1440x720 with 1 Axes>"
      ]
     },
     "metadata": {
      "needs_background": "light"
     },
     "output_type": "display_data"
    }
   ],
   "source": [
    "#plotting bar plot between number of features and percentage of variation that each feature holds\n",
    "\n",
    "plt.figure(figsize=(20,10))\n",
    "plt.bar(np.arange(len(pca.explained_variance_ratio_)),pca.explained_variance_ratio_)"
   ]
  },
  {
   "cell_type": "code",
   "execution_count": 27,
   "id": "f4971f6d",
   "metadata": {},
   "outputs": [
    {
     "data": {
      "text/plain": [
       "<BarContainer object of 364 artists>"
      ]
     },
     "execution_count": 27,
     "metadata": {},
     "output_type": "execute_result"
    },
    {
     "data": {
      "image/png": "[encoded data removed]",
      "text/plain": [
       "<Figure size 1440x720 with 1 Axes>"
      ]
     },
     "metadata": {
      "needs_background": "light"
     },
     "output_type": "display_data"
    }
   ],
   "source": [
    "#plotting the cumulative sum of the variation of each features\n",
    "\n",
    "plt.figure(figsize=(20,10))\n",
    "plt.bar(np.arange(len(pca.explained_variance_ratio_)),pca.explained_variance_ratio_.cumsum())"
   ]
  },
  {
   "cell_type": "code",
   "execution_count": 28,
   "id": "ae5c7935",
   "metadata": {},
   "outputs": [],
   "source": [
    "#cummulative sum of the percentage of variation\n",
    "\n",
    "var_per=pca.explained_variance_ratio_.cumsum()"
   ]
  },
  {
   "cell_type": "code",
   "execution_count": 29,
   "id": "223a2052",
   "metadata": {},
   "outputs": [
    {
     "data": {
      "text/plain": [
       "(147,)"
      ]
     },
     "execution_count": 29,
     "metadata": {},
     "output_type": "execute_result"
    }
   ],
   "source": [
    "#finding out the number of features that cumulatively shows atleast 95% of variation in the dependent variable\n",
    "\n",
    "var_per[var_per<0.95].shape"
   ]
  },
  {
   "cell_type": "code",
   "execution_count": 30,
   "id": "55b544ff",
   "metadata": {},
   "outputs": [],
   "source": [
    "#Initializing PCA to reduce the number of dimensions to n components\n",
    "\n",
    "pca = PCA(n_components=147)"
   ]
  },
  {
   "cell_type": "code",
   "execution_count": 31,
   "id": "f3d2e9d4",
   "metadata": {},
   "outputs": [],
   "source": [
    "X_trsf_train = pca.fit_transform(X_train)"
   ]
  },
  {
   "cell_type": "code",
   "execution_count": 32,
   "id": "cf26702b",
   "metadata": {},
   "outputs": [
    {
     "data": {
      "text/plain": [
       "(4209, 147)"
      ]
     },
     "execution_count": 32,
     "metadata": {},
     "output_type": "execute_result"
    }
   ],
   "source": [
    "X_trsf_train.shape"
   ]
  },
  {
   "cell_type": "markdown",
   "id": "1af90c0d",
   "metadata": {},
   "source": [
    "<h3> The same above steps are followed to prepare the test dataframe for prediction</h3>"
   ]
  },
  {
   "cell_type": "code",
   "execution_count": 33,
   "id": "0f5b5034",
   "metadata": {},
   "outputs": [
    {
     "data": {
      "text/html": [
       "<div>\n",
       "<style scoped>\n",
       "    .dataframe tbody tr th:only-of-type {\n",
       "        vertical-align: middle;\n",
       "    }\n",
       "\n",
       "    .dataframe tbody tr th {\n",
       "        vertical-align: top;\n",
       "    }\n",
       "\n",
       "    .dataframe thead th {\n",
       "        text-align: right;\n",
       "    }\n",
       "</style>\n",
       "<table border=\"1\" class=\"dataframe\">\n",
       "  <thead>\n",
       "    <tr style=\"text-align: right;\">\n",
       "      <th></th>\n",
       "      <th>ID</th>\n",
       "      <th>X0</th>\n",
       "      <th>X1</th>\n",
       "      <th>X2</th>\n",
       "      <th>X3</th>\n",
       "      <th>X4</th>\n",
       "      <th>X5</th>\n",
       "      <th>X6</th>\n",
       "      <th>X8</th>\n",
       "      <th>X10</th>\n",
       "      <th>...</th>\n",
       "      <th>X375</th>\n",
       "      <th>X376</th>\n",
       "      <th>X377</th>\n",
       "      <th>X378</th>\n",
       "      <th>X379</th>\n",
       "      <th>X380</th>\n",
       "      <th>X382</th>\n",
       "      <th>X383</th>\n",
       "      <th>X384</th>\n",
       "      <th>X385</th>\n",
       "    </tr>\n",
       "  </thead>\n",
       "  <tbody>\n",
       "    <tr>\n",
       "      <th>0</th>\n",
       "      <td>1</td>\n",
       "      <td>az</td>\n",
       "      <td>v</td>\n",
       "      <td>n</td>\n",
       "      <td>f</td>\n",
       "      <td>d</td>\n",
       "      <td>t</td>\n",
       "      <td>a</td>\n",
       "      <td>w</td>\n",
       "      <td>0</td>\n",
       "      <td>...</td>\n",
       "      <td>0</td>\n",
       "      <td>0</td>\n",
       "      <td>0</td>\n",
       "      <td>1</td>\n",
       "      <td>0</td>\n",
       "      <td>0</td>\n",
       "      <td>0</td>\n",
       "      <td>0</td>\n",
       "      <td>0</td>\n",
       "      <td>0</td>\n",
       "    </tr>\n",
       "    <tr>\n",
       "      <th>1</th>\n",
       "      <td>2</td>\n",
       "      <td>t</td>\n",
       "      <td>b</td>\n",
       "      <td>ai</td>\n",
       "      <td>a</td>\n",
       "      <td>d</td>\n",
       "      <td>b</td>\n",
       "      <td>g</td>\n",
       "      <td>y</td>\n",
       "      <td>0</td>\n",
       "      <td>...</td>\n",
       "      <td>0</td>\n",
       "      <td>0</td>\n",
       "      <td>1</td>\n",
       "      <td>0</td>\n",
       "      <td>0</td>\n",
       "      <td>0</td>\n",
       "      <td>0</td>\n",
       "      <td>0</td>\n",
       "      <td>0</td>\n",
       "      <td>0</td>\n",
       "    </tr>\n",
       "    <tr>\n",
       "      <th>2</th>\n",
       "      <td>3</td>\n",
       "      <td>az</td>\n",
       "      <td>v</td>\n",
       "      <td>as</td>\n",
       "      <td>f</td>\n",
       "      <td>d</td>\n",
       "      <td>a</td>\n",
       "      <td>j</td>\n",
       "      <td>j</td>\n",
       "      <td>0</td>\n",
       "      <td>...</td>\n",
       "      <td>0</td>\n",
       "      <td>0</td>\n",
       "      <td>0</td>\n",
       "      <td>1</td>\n",
       "      <td>0</td>\n",
       "      <td>0</td>\n",
       "      <td>0</td>\n",
       "      <td>0</td>\n",
       "      <td>0</td>\n",
       "      <td>0</td>\n",
       "    </tr>\n",
       "    <tr>\n",
       "      <th>3</th>\n",
       "      <td>4</td>\n",
       "      <td>az</td>\n",
       "      <td>l</td>\n",
       "      <td>n</td>\n",
       "      <td>f</td>\n",
       "      <td>d</td>\n",
       "      <td>z</td>\n",
       "      <td>l</td>\n",
       "      <td>n</td>\n",
       "      <td>0</td>\n",
       "      <td>...</td>\n",
       "      <td>0</td>\n",
       "      <td>0</td>\n",
       "      <td>0</td>\n",
       "      <td>1</td>\n",
       "      <td>0</td>\n",
       "      <td>0</td>\n",
       "      <td>0</td>\n",
       "      <td>0</td>\n",
       "      <td>0</td>\n",
       "      <td>0</td>\n",
       "    </tr>\n",
       "    <tr>\n",
       "      <th>4</th>\n",
       "      <td>5</td>\n",
       "      <td>w</td>\n",
       "      <td>s</td>\n",
       "      <td>as</td>\n",
       "      <td>c</td>\n",
       "      <td>d</td>\n",
       "      <td>y</td>\n",
       "      <td>i</td>\n",
       "      <td>m</td>\n",
       "      <td>0</td>\n",
       "      <td>...</td>\n",
       "      <td>1</td>\n",
       "      <td>0</td>\n",
       "      <td>0</td>\n",
       "      <td>0</td>\n",
       "      <td>0</td>\n",
       "      <td>0</td>\n",
       "      <td>0</td>\n",
       "      <td>0</td>\n",
       "      <td>0</td>\n",
       "      <td>0</td>\n",
       "    </tr>\n",
       "  </tbody>\n",
       "</table>\n",
       "<p>5 rows × 377 columns</p>\n",
       "</div>"
      ],
      "text/plain": [
       "   ID  X0 X1  X2 X3 X4 X5 X6 X8  X10  ...  X375  X376  X377  X378  X379  X380  \\\n",
       "0   1  az  v   n  f  d  t  a  w    0  ...     0     0     0     1     0     0   \n",
       "1   2   t  b  ai  a  d  b  g  y    0  ...     0     0     1     0     0     0   \n",
       "2   3  az  v  as  f  d  a  j  j    0  ...     0     0     0     1     0     0   \n",
       "3   4  az  l   n  f  d  z  l  n    0  ...     0     0     0     1     0     0   \n",
       "4   5   w  s  as  c  d  y  i  m    0  ...     1     0     0     0     0     0   \n",
       "\n",
       "   X382  X383  X384  X385  \n",
       "0     0     0     0     0  \n",
       "1     0     0     0     0  \n",
       "2     0     0     0     0  \n",
       "3     0     0     0     0  \n",
       "4     0     0     0     0  \n",
       "\n",
       "[5 rows x 377 columns]"
      ]
     },
     "execution_count": 33,
     "metadata": {},
     "output_type": "execute_result"
    }
   ],
   "source": [
    "test_df.head()"
   ]
  },
  {
   "cell_type": "code",
   "execution_count": 34,
   "id": "21c97904",
   "metadata": {},
   "outputs": [],
   "source": [
    "test_new_df = test_df.drop(test_df.select_dtypes(object),axis =1)"
   ]
  },
  {
   "cell_type": "code",
   "execution_count": 35,
   "id": "0d43fb4f",
   "metadata": {},
   "outputs": [
    {
     "data": {
      "text/plain": [
       "(4209, 369)"
      ]
     },
     "execution_count": 35,
     "metadata": {},
     "output_type": "execute_result"
    }
   ],
   "source": [
    "test_new_df.shape"
   ]
  },
  {
   "cell_type": "code",
   "execution_count": 36,
   "id": "f5a46e38",
   "metadata": {},
   "outputs": [],
   "source": [
    "cols =list()\n",
    "for i in range(len(test_new_df.columns)):\n",
    "    if test_new_df[test_new_df.columns[i]].var()==0:\n",
    "        cols.append(test_new_df.columns[i])\n",
    "    else:\n",
    "        continue\n",
    "test_filt_df = test_new_df.drop(cols,axis=1)"
   ]
  },
  {
   "cell_type": "code",
   "execution_count": 37,
   "id": "72a7551c",
   "metadata": {},
   "outputs": [
    {
     "name": "stdout",
     "output_type": "stream",
     "text": [
      "['X257', 'X258', 'X295', 'X296', 'X369']\n"
     ]
    }
   ],
   "source": [
    "print(cols)"
   ]
  },
  {
   "cell_type": "code",
   "execution_count": 38,
   "id": "9941a374",
   "metadata": {},
   "outputs": [
    {
     "data": {
      "text/plain": [
       "(4209, 364)"
      ]
     },
     "execution_count": 38,
     "metadata": {},
     "output_type": "execute_result"
    }
   ],
   "source": [
    "test_filt_df.shape"
   ]
  },
  {
   "cell_type": "code",
   "execution_count": 39,
   "id": "98aa7526",
   "metadata": {},
   "outputs": [],
   "source": [
    "test_cat_df = test_df[['X0','X1','X2','X3','X4','X5','X6','X8']]"
   ]
  },
  {
   "cell_type": "code",
   "execution_count": 40,
   "id": "63379309",
   "metadata": {},
   "outputs": [
    {
     "name": "stderr",
     "output_type": "stream",
     "text": [
      "<ipython-input-40-7e66946e0a4d>:3: SettingWithCopyWarning: \n",
      "A value is trying to be set on a copy of a slice from a DataFrame.\n",
      "Try using .loc[row_indexer,col_indexer] = value instead\n",
      "\n",
      "See the caveats in the documentation: https://pandas.pydata.org/pandas-docs/stable/user_guide/indexing.html#returning-a-view-versus-a-copy\n",
      "  test_cat_df[cols]=le.fit_transform(test_cat_df[cols])\n"
     ]
    }
   ],
   "source": [
    "le = LabelEncoder()\n",
    "for cols in list(test_cat_df.columns):\n",
    "    test_cat_df[cols]=le.fit_transform(test_cat_df[cols])"
   ]
  },
  {
   "cell_type": "code",
   "execution_count": 41,
   "id": "45278a21",
   "metadata": {},
   "outputs": [],
   "source": [
    "test_final_df = pd.concat([test_cat_df,test_filt_df],axis=1)\n",
    "X_test = test_final_df.drop('ID',axis=1)"
   ]
  },
  {
   "cell_type": "code",
   "execution_count": 42,
   "id": "e720b3a4",
   "metadata": {},
   "outputs": [],
   "source": [
    "ss = StandardScaler()\n",
    "X_test = ss.fit_transform(X_test)"
   ]
  },
  {
   "cell_type": "code",
   "execution_count": 43,
   "id": "f6470ecd",
   "metadata": {},
   "outputs": [],
   "source": [
    "pca = PCA(n_components=147)"
   ]
  },
  {
   "cell_type": "code",
   "execution_count": 44,
   "id": "cf2d04b2",
   "metadata": {},
   "outputs": [
    {
     "data": {
      "text/plain": [
       "PCA(n_components=147)"
      ]
     },
     "execution_count": 44,
     "metadata": {},
     "output_type": "execute_result"
    }
   ],
   "source": [
    "pca.fit(X_test)"
   ]
  },
  {
   "cell_type": "code",
   "execution_count": 45,
   "id": "71880058",
   "metadata": {},
   "outputs": [],
   "source": [
    "X_trsf_test = pca.fit_transform(X_test)"
   ]
  },
  {
   "cell_type": "code",
   "execution_count": 46,
   "id": "30f2f27f",
   "metadata": {},
   "outputs": [],
   "source": [
    "#Initializing xgboost regressor \n",
    "\n",
    "xgbreg = XGBRegressor()"
   ]
  },
  {
   "cell_type": "code",
   "execution_count": 47,
   "id": "4731bf31",
   "metadata": {},
   "outputs": [
    {
     "data": {
      "text/plain": [
       "XGBRegressor(base_score=0.5, booster='gbtree', colsample_bylevel=1,\n",
       "             colsample_bynode=1, colsample_bytree=1, enable_categorical=False,\n",
       "             gamma=0, gpu_id=-1, importance_type=None,\n",
       "             interaction_constraints='', learning_rate=0.300000012,\n",
       "             max_delta_step=0, max_depth=6, min_child_weight=1, missing=nan,\n",
       "             monotone_constraints='()', n_estimators=100, n_jobs=4,\n",
       "             num_parallel_tree=1, predictor='auto', random_state=0, reg_alpha=0,\n",
       "             reg_lambda=1, scale_pos_weight=1, subsample=1, tree_method='exact',\n",
       "             validate_parameters=1, verbosity=None)"
      ]
     },
     "execution_count": 47,
     "metadata": {},
     "output_type": "execute_result"
    }
   ],
   "source": [
    "#fitting the training data\n",
    "\n",
    "xgbreg.fit(X_trsf_train,Y_train)"
   ]
  },
  {
   "cell_type": "code",
   "execution_count": 48,
   "id": "4b201780",
   "metadata": {},
   "outputs": [],
   "source": [
    "#predicting using the test data\n",
    "\n",
    "pred = xgbreg.predict(X_trsf_test)"
   ]
  },
  {
   "cell_type": "code",
   "execution_count": 49,
   "id": "d3e95b51",
   "metadata": {},
   "outputs": [
    {
     "data": {
      "text/plain": [
       "array([ 91.849434, 102.969574,  86.596405, ..., 100.17861 , 114.39094 ,\n",
       "        94.83634 ], dtype=float32)"
      ]
     },
     "execution_count": 49,
     "metadata": {},
     "output_type": "execute_result"
    }
   ],
   "source": [
    "#Displaying the predictions\n",
    "\n",
    "pred"
   ]
  },
  {
   "cell_type": "code",
   "execution_count": 50,
   "id": "7c33abc1",
   "metadata": {},
   "outputs": [
    {
     "data": {
      "text/plain": [
       "array([ 91.849434, 102.969574,  86.596405, ..., 100.17861 , 114.39094 ,\n",
       "        94.83634 ], dtype=float32)"
      ]
     },
     "execution_count": 50,
     "metadata": {},
     "output_type": "execute_result"
    }
   ],
   "source": [
    "pred"
   ]
  },
  {
   "cell_type": "code",
   "execution_count": null,
   "id": "b6e9e4b9",
   "metadata": {},
   "outputs": [],
   "source": []
  }
 ],
 "metadata": {
  "kernelspec": {
   "display_name": "Python 3",
   "language": "python",
   "name": "python3"
  },
  "language_info": {
   "codemirror_mode": {
    "name": "ipython",
    "version": 3
   },
   "file_extension": ".py",
   "mimetype": "text/x-python",
   "name": "python",
   "nbconvert_exporter": "python",
   "pygments_lexer": "ipython3",
   "version": "3.8.8"
  }
 },
 "nbformat": 4,
 "nbformat_minor": 5
}
